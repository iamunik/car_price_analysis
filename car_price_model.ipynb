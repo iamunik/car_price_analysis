{
 "cells": [
  {
   "cell_type": "markdown",
   "id": "0cfe33b4",
   "metadata": {},
   "source": [
    "# MODEL CREATION"
   ]
  },
  {
   "cell_type": "code",
   "execution_count": null,
   "id": "bd69ddf1",
   "metadata": {},
   "outputs": [],
   "source": [
    "import pandas as pd\n",
    "from sklearn.model_selection import train_test_split"
   ]
  },
  {
   "cell_type": "markdown",
   "id": "1d41101e",
   "metadata": {},
   "source": [
    "#### Reading the features csv file "
   ]
  },
  {
   "cell_type": "code",
   "execution_count": null,
   "id": "9f694e34",
   "metadata": {},
   "outputs": [],
   "source": [
    "data = pd.read_csv('dataset_used/features_car.csv')\n",
    "data.head()"
   ]
  },
  {
   "cell_type": "code",
   "execution_count": null,
   "id": "47cd5ca6",
   "metadata": {},
   "outputs": [],
   "source": [
    "# BASED ON THE ANALYSIS PART OF THIS NOTEBOOK SERIES WE PICKED THE FEATURES WITH THE HIGHEST CORRELATION\n",
    "x = data[['horsepower', 'curb-weight', 'engine-size', 'highway-mpg']].values\n",
    "y = data.price\n",
    "\n",
    "# splitting the dataset into training and testing values.\n",
    "train_x, val_x, train_y, val_y = train_test_split(x, y, test_size=0.2, random_state = 1)\n"
   ]
  },
  {
   "cell_type": "markdown",
   "id": "553095ab",
   "metadata": {},
   "source": [
    "Linear Regression\n",
    "Random Forest Regressor\n",
    "Decision Tree Regressor\n",
    "Lasso\n",
    "Ridge\n",
    "ElasticNet"
   ]
  },
  {
   "cell_type": "code",
   "execution_count": null,
   "id": "692a47c3",
   "metadata": {},
   "outputs": [],
   "source": [
    "# Using a MultipleLinearRegressor import the necessary library\n",
    "from sklearn.linear_model import LinearRegression\n",
    "\n",
    "# training the model\n",
    "lm = LinearRegression()\n",
    "lm.fit(train_x, train_y)\n",
    "\n",
    "# making a prediction\n",
    "m1 = lm.predict(val_x)\n",
    "m1"
   ]
  },
  {
   "cell_type": "code",
   "execution_count": null,
   "id": "8537bb89",
   "metadata": {},
   "outputs": [],
   "source": [
    "# Using a RandomForestRegressor import the necessary library\n",
    "\n",
    "from sklearn.ensemble import RandomForestRegressor\n",
    "\n",
    "# trainig the model\n",
    "rf = RandomForestRegressor()\n",
    "rf.fit(train_x, train_y)\n",
    "\n",
    "# making a prepdiction\n",
    "m2 = rf.predict(val_x)\n",
    "m2"
   ]
  },
  {
   "cell_type": "code",
   "execution_count": null,
   "id": "eba3c8c7",
   "metadata": {},
   "outputs": [],
   "source": [
    "# Using a DecisionTreeRegressor import the neccesary library\n",
    "\n",
    "from sklearn.tree import DecisionTreeRegressor\n",
    "\n",
    "# training the model\n",
    "dt = DecisionTreeRegressor()\n",
    "dt.fit(train_x, train_y)\n",
    "\n",
    "# making a prediction\n",
    "m3 = dt.predict(val_x)\n",
    "m3"
   ]
  },
  {
   "cell_type": "code",
   "execution_count": null,
   "id": "772bba3f",
   "metadata": {},
   "outputs": [],
   "source": [
    "# Using a Lasso model, import the necessary library\n",
    "from sklearn.linear_model import Lasso\n",
    "\n",
    "# training the model\n",
    "ls = Lasso()\n",
    "ls.fit(train_x, train_y)\n",
    "\n",
    "# making a predictin\n",
    "m4 = ls.predict(val_x)\n",
    "m4"
   ]
  },
  {
   "cell_type": "code",
   "execution_count": null,
   "id": "810ab90f",
   "metadata": {},
   "outputs": [],
   "source": [
    "# Using a Lasso model, import the necessary library\n",
    "from sklearn.linear_model import Ridge\n",
    "\n",
    "# training the model\n",
    "rd = Ridge()\n",
    "rd.fit(train_x, train_y)\n",
    "\n",
    "# making a prediction\n",
    "m5 = rd.predict(val_x)\n",
    "m5"
   ]
  },
  {
   "cell_type": "code",
   "execution_count": null,
   "id": "a4848701",
   "metadata": {},
   "outputs": [],
   "source": [
    "# Uisng the ElasticNet model, import the necessary library\n",
    "from sklearn.linear_model import ElasticNet\n",
    "\n",
    "# training the model\n",
    "en = ElasticNet()\n",
    "en.fit(train_x, train_y)\n",
    "\n",
    "# making a prediction\n",
    "m6 = en.predict(val_x)\n",
    "m6"
   ]
  },
  {
   "cell_type": "markdown",
   "id": "82a6c506",
   "metadata": {},
   "source": [
    "### MODEL EVALUATION"
   ]
  },
  {
   "cell_type": "code",
   "execution_count": null,
   "id": "8979a0e9",
   "metadata": {},
   "outputs": [],
   "source": [
    "from sklearn.metrics import r2_score\n",
    "from sklearn.metrics import mean_absolute_error"
   ]
  },
  {
   "cell_type": "code",
   "execution_count": null,
   "id": "bbdfe4a0",
   "metadata": {},
   "outputs": [],
   "source": [
    "# mean_absolute_error\n",
    "lm_mae = mean_absolute_error(val_y, m1)\n",
    "rf_mae = mean_absolute_error(val_y, m2)\n",
    "df_mae = mean_absolute_error(val_y, m3)\n",
    "ls_mae = mean_absolute_error(val_y, m4)\n",
    "rd_mae = mean_absolute_error(val_y, m5)\n",
    "en_mae = mean_absolute_error(val_y, m6)\n",
    "\n",
    "# r2_score\n",
    "lm_score = r2_score(val_y, m1)\n",
    "rf_score = r2_score(val_y, m2)\n",
    "dt_score = r2_score(val_y, m3)\n",
    "ls_score = r2_score(val_y, m4)\n",
    "rd_score = r2_score(val_y, m5)\n",
    "en_score = r2_score(val_y, m6)\n",
    "\n",
    "print(f\"\"\"\n",
    "Mean Absolute Error of models\n",
    "------------------------------------------------------------\n",
    "Multiple Linear Regression: {lm_mae}\n",
    "Random Forest Regressor: {rf_mae}\n",
    "Decision Tree Regressor: {df_mae}\n",
    "Lasso model: {ls_mae}\n",
    "Ridge model: {rd_mae}\n",
    "ElasticNet model: {en_mae}\n",
    "\"\"\")\n",
    "\n",
    "\n",
    "print(f\"\"\"\n",
    "ACCURACY OF MODELS\n",
    "------------------------------------------------------------------------\n",
    "The Multiple Linear Regression model has an accuracy of {round(lm_score, 2) * 100}%\n",
    "The Random Forest Regressor model has an accuracy of {round(rf_score, 2) * 100}%\n",
    "The Decision Tree Regressor model has an accuracy of {round(dt_score, 2) * 100}%\n",
    "The Lasso model has an accuracy of {round(ls_score, 2) * 100}%\n",
    "The Ridge model has an accuracy of {round(rd_score, 2) * 100}%\n",
    "The ElasticNet model has an accuracy {round(en_score, 2) * 100}%\n",
    "\"\"\")"
   ]
  },
  {
   "cell_type": "code",
   "execution_count": null,
   "id": "445fc841",
   "metadata": {},
   "outputs": [],
   "source": [
    "print(f\"Based on the above evaluaiton process the Random Forest Regressor model has an accuracy of {round(rf_score, 2) * 100}% whicih is the highest accuracy of all trained model\")"
   ]
  },
  {
   "cell_type": "markdown",
   "id": "3219fb6f",
   "metadata": {},
   "source": [
    "<h2>The purpose of this notebook was to try out multiple regression models and pick the one that performs the best</h2>"
   ]
  }
 ],
 "metadata": {
  "kernelspec": {
   "display_name": "Python 3 (ipykernel)",
   "language": "python",
   "name": "python3"
  },
  "language_info": {
   "codemirror_mode": {
    "name": "ipython",
    "version": 3
   },
   "file_extension": ".py",
   "mimetype": "text/x-python",
   "name": "python",
   "nbconvert_exporter": "python",
   "pygments_lexer": "ipython3",
   "version": "3.9.12"
  }
 },
 "nbformat": 4,
 "nbformat_minor": 5
}
