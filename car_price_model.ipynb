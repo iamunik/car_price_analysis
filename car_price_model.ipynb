{
 "cells": [
  {
   "cell_type": "markdown",
   "id": "0cfe33b4",
   "metadata": {},
   "source": [
    "# MODEL CREATION"
   ]
  },
  {
   "cell_type": "code",
   "execution_count": 1,
   "id": "bd69ddf1",
   "metadata": {},
   "outputs": [],
   "source": [
    "import pandas as pd\n",
    "from sklearn.model_selection import train_test_split\n",
    "from sklearn import preprocessing"
   ]
  },
  {
   "cell_type": "markdown",
   "id": "1d41101e",
   "metadata": {},
   "source": [
    "#### Reading the features csv file "
   ]
  },
  {
   "cell_type": "code",
   "execution_count": 2,
   "id": "9f694e34",
   "metadata": {},
   "outputs": [
    {
     "data": {
      "text/html": [
       "<div>\n",
       "<style scoped>\n",
       "    .dataframe tbody tr th:only-of-type {\n",
       "        vertical-align: middle;\n",
       "    }\n",
       "\n",
       "    .dataframe tbody tr th {\n",
       "        vertical-align: top;\n",
       "    }\n",
       "\n",
       "    .dataframe thead th {\n",
       "        text-align: right;\n",
       "    }\n",
       "</style>\n",
       "<table border=\"1\" class=\"dataframe\">\n",
       "  <thead>\n",
       "    <tr style=\"text-align: right;\">\n",
       "      <th></th>\n",
       "      <th>length</th>\n",
       "      <th>width</th>\n",
       "      <th>curb-weight</th>\n",
       "      <th>engine-size</th>\n",
       "      <th>horsepower</th>\n",
       "      <th>city-mpg</th>\n",
       "      <th>highway-mpg</th>\n",
       "      <th>wheel-base</th>\n",
       "      <th>bore</th>\n",
       "      <th>drive-wheels</th>\n",
       "      <th>price</th>\n",
       "    </tr>\n",
       "  </thead>\n",
       "  <tbody>\n",
       "    <tr>\n",
       "      <th>0</th>\n",
       "      <td>0.811148</td>\n",
       "      <td>0.890278</td>\n",
       "      <td>2548</td>\n",
       "      <td>130</td>\n",
       "      <td>111</td>\n",
       "      <td>21</td>\n",
       "      <td>27</td>\n",
       "      <td>88.6</td>\n",
       "      <td>3.47</td>\n",
       "      <td>rwd</td>\n",
       "      <td>13495.0</td>\n",
       "    </tr>\n",
       "    <tr>\n",
       "      <th>1</th>\n",
       "      <td>0.811148</td>\n",
       "      <td>0.890278</td>\n",
       "      <td>2548</td>\n",
       "      <td>130</td>\n",
       "      <td>111</td>\n",
       "      <td>21</td>\n",
       "      <td>27</td>\n",
       "      <td>88.6</td>\n",
       "      <td>3.47</td>\n",
       "      <td>rwd</td>\n",
       "      <td>16500.0</td>\n",
       "    </tr>\n",
       "    <tr>\n",
       "      <th>2</th>\n",
       "      <td>0.822681</td>\n",
       "      <td>0.909722</td>\n",
       "      <td>2823</td>\n",
       "      <td>152</td>\n",
       "      <td>154</td>\n",
       "      <td>19</td>\n",
       "      <td>26</td>\n",
       "      <td>94.5</td>\n",
       "      <td>2.68</td>\n",
       "      <td>rwd</td>\n",
       "      <td>16500.0</td>\n",
       "    </tr>\n",
       "    <tr>\n",
       "      <th>3</th>\n",
       "      <td>0.848630</td>\n",
       "      <td>0.919444</td>\n",
       "      <td>2337</td>\n",
       "      <td>109</td>\n",
       "      <td>102</td>\n",
       "      <td>24</td>\n",
       "      <td>30</td>\n",
       "      <td>99.8</td>\n",
       "      <td>3.19</td>\n",
       "      <td>fwd</td>\n",
       "      <td>13950.0</td>\n",
       "    </tr>\n",
       "    <tr>\n",
       "      <th>4</th>\n",
       "      <td>0.848630</td>\n",
       "      <td>0.922222</td>\n",
       "      <td>2824</td>\n",
       "      <td>136</td>\n",
       "      <td>115</td>\n",
       "      <td>18</td>\n",
       "      <td>22</td>\n",
       "      <td>99.4</td>\n",
       "      <td>3.19</td>\n",
       "      <td>4wd</td>\n",
       "      <td>17450.0</td>\n",
       "    </tr>\n",
       "  </tbody>\n",
       "</table>\n",
       "</div>"
      ],
      "text/plain": [
       "     length     width  curb-weight  engine-size  horsepower  city-mpg  \\\n",
       "0  0.811148  0.890278         2548          130         111        21   \n",
       "1  0.811148  0.890278         2548          130         111        21   \n",
       "2  0.822681  0.909722         2823          152         154        19   \n",
       "3  0.848630  0.919444         2337          109         102        24   \n",
       "4  0.848630  0.922222         2824          136         115        18   \n",
       "\n",
       "   highway-mpg  wheel-base  bore drive-wheels    price  \n",
       "0           27        88.6  3.47          rwd  13495.0  \n",
       "1           27        88.6  3.47          rwd  16500.0  \n",
       "2           26        94.5  2.68          rwd  16500.0  \n",
       "3           30        99.8  3.19          fwd  13950.0  \n",
       "4           22        99.4  3.19          4wd  17450.0  "
      ]
     },
     "execution_count": 2,
     "metadata": {},
     "output_type": "execute_result"
    }
   ],
   "source": [
    "data = pd.read_csv('dataset_used/features_car.csv')\n",
    "data.head()"
   ]
  },
  {
   "cell_type": "code",
   "execution_count": 3,
   "id": "47cd5ca6",
   "metadata": {},
   "outputs": [],
   "source": [
    "# BASED ON THE ANALYSIS PART OF THIS NOTEBOOK SERIES WE PICKED THE FEATURES WITH THE HIGHEST CORRELATION\n",
    "x = data[['horsepower', 'curb-weight', 'engine-size', 'highway-mpg', 'drive-wheels', 'length', 'width', 'city-mpg']].values\n",
    "\n",
    "# Label Encoder for one-hot-encoding\n",
    "le_sex = preprocessing.LabelEncoder()\n",
    "le_sex.fit(['rwd','fwd', '4wd'])\n",
    "x[:,4] = le_sex.transform(x[:,4]) \n",
    "\n",
    "# StandardScaler Preprocessor for scaling the dataset\n",
    "x = preprocessing.StandardScaler().fit(x).transform(x.astype(float))\n",
    "y = data.price\n",
    "\n",
    "# splitting the dataset into training and testing values.\n",
    "train_x, val_x, train_y, val_y = train_test_split(x, y, test_size=0.1, random_state = 2)"
   ]
  },
  {
   "cell_type": "markdown",
   "id": "553095ab",
   "metadata": {},
   "source": [
    "Linear Regression\n",
    "Random Forest Regressor\n",
    "Decision Tree Regressor\n",
    "Lasso\n",
    "Ridge\n",
    "ElasticNet"
   ]
  },
  {
   "cell_type": "code",
   "execution_count": 4,
   "id": "692a47c3",
   "metadata": {},
   "outputs": [
    {
     "data": {
      "text/plain": [
       "array([ 7877.54726206,  9067.47823695, 18985.34002774, 20965.53608216,\n",
       "        5981.23505078,  6250.19213406,  6141.54122825, 10741.50295779,\n",
       "        9592.6704247 , 11484.92892058, 18022.77368062, 24394.01454975,\n",
       "       23894.3692766 , 15601.03577252, 17529.61123966, 33478.34473006,\n",
       "       17565.22026952, 16102.86598586, 12829.71767772, 16871.14647111,\n",
       "        7888.17801255])"
      ]
     },
     "execution_count": 4,
     "metadata": {},
     "output_type": "execute_result"
    }
   ],
   "source": [
    "# Using a MultipleLinearRegressor import the necessary library\n",
    "from sklearn.linear_model import LinearRegression\n",
    "\n",
    "# training the model\n",
    "lm = LinearRegression()\n",
    "lm.fit(train_x, train_y)\n",
    "\n",
    "# making a prediction\n",
    "m1 = lm.predict(val_x)\n",
    "m1"
   ]
  },
  {
   "cell_type": "code",
   "execution_count": 5,
   "id": "8537bb89",
   "metadata": {},
   "outputs": [
    {
     "data": {
      "text/plain": [
       "array([11678.92      ,  9369.97      , 16071.13      , 15416.8       ,\n",
       "        6583.748     ,  6782.3       ,  5480.69      , 14222.08666667,\n",
       "        8211.39      , 10298.20833333, 19034.74      , 29470.47      ,\n",
       "       29132.34      , 16779.8       , 17654.27      , 36010.51      ,\n",
       "       17676.64      , 13094.78      , 13208.78833333, 15639.135     ,\n",
       "       11644.68      ])"
      ]
     },
     "execution_count": 5,
     "metadata": {},
     "output_type": "execute_result"
    }
   ],
   "source": [
    "# Using a RandomForestRegressor import the necessary library\n",
    "from sklearn.ensemble import RandomForestRegressor\n",
    "\n",
    "# trainig the model\n",
    "rf = RandomForestRegressor()\n",
    "rf.fit(train_x, train_y)\n",
    "\n",
    "# making a prepdiction\n",
    "m2 = rf.predict(val_x)\n",
    "m2"
   ]
  },
  {
   "cell_type": "code",
   "execution_count": 6,
   "id": "eba3c8c7",
   "metadata": {},
   "outputs": [
    {
     "data": {
      "text/plain": [
       "array([10945.,  9980., 17199., 14399.,  6229.,  6649.,  5399., 16430.,\n",
       "        8195., 10245., 19045., 28176., 28176., 16500., 18920., 35550.,\n",
       "       20970.,  9989., 12170., 16515., 10945.])"
      ]
     },
     "execution_count": 6,
     "metadata": {},
     "output_type": "execute_result"
    }
   ],
   "source": [
    "# Using a DecisionTreeRegressor import the neccesary library\n",
    "from sklearn.tree import DecisionTreeRegressor\n",
    "\n",
    "# training the model\n",
    "dt = DecisionTreeRegressor()\n",
    "dt.fit(train_x, train_y)\n",
    "\n",
    "# making a prediction\n",
    "m3 = dt.predict(val_x)\n",
    "m3"
   ]
  },
  {
   "cell_type": "code",
   "execution_count": 7,
   "id": "772bba3f",
   "metadata": {},
   "outputs": [
    {
     "data": {
      "text/plain": [
       "array([ 7872.89721256,  9065.23310374, 18989.2712049 , 20965.25576953,\n",
       "        5970.78316307,  6257.5752486 ,  6137.990701  , 10749.53638953,\n",
       "        9588.85554582, 11485.09055527, 18011.63112021, 24380.0336739 ,\n",
       "       23888.4335712 , 15603.26924259, 17521.59922777, 33468.49218267,\n",
       "       17557.20275027, 16100.81216218, 12829.49380646, 16873.68120476,\n",
       "        7883.35678921])"
      ]
     },
     "execution_count": 7,
     "metadata": {},
     "output_type": "execute_result"
    }
   ],
   "source": [
    "# Using a Lasso model, import the necessary library\n",
    "from sklearn.linear_model import Lasso\n",
    "\n",
    "# training the model\n",
    "ls = Lasso()\n",
    "ls.fit(train_x, train_y)\n",
    "\n",
    "# making a predictin\n",
    "m4 = ls.predict(val_x)\n",
    "m4"
   ]
  },
  {
   "cell_type": "code",
   "execution_count": 8,
   "id": "810ab90f",
   "metadata": {},
   "outputs": [
    {
     "data": {
      "text/plain": [
       "array([ 7952.92651799,  9067.58964496, 18992.13366239, 20943.19044173,\n",
       "        5951.86477659,  6256.95455393,  6083.25995571, 10790.61515067,\n",
       "        9575.15796018, 11472.21760082, 18016.86171915, 24363.73221054,\n",
       "       23868.98521557, 15652.98046513, 17507.39421568, 33395.79645566,\n",
       "       17523.06560581, 16089.72153955, 12847.3194403 , 16899.50023157,\n",
       "        7963.4530498 ])"
      ]
     },
     "execution_count": 8,
     "metadata": {},
     "output_type": "execute_result"
    }
   ],
   "source": [
    "# Using a Lasso model, import the necessary library\n",
    "from sklearn.linear_model import Ridge\n",
    "\n",
    "# training the model\n",
    "rd = Ridge()\n",
    "rd.fit(train_x, train_y)\n",
    "\n",
    "# making a prediction\n",
    "m5 = rd.predict(val_x)\n",
    "m5"
   ]
  },
  {
   "cell_type": "code",
   "execution_count": 9,
   "id": "a4848701",
   "metadata": {},
   "outputs": [
    {
     "data": {
      "text/plain": [
       "array([11380.45329829,  9563.22951294, 19054.07650653, 19832.80885352,\n",
       "        6036.21453339,  6681.38126958,  2906.71131119, 12418.09085926,\n",
       "        9858.12355944, 11699.81058698, 18668.28414624, 22997.73314908,\n",
       "       22527.22717517, 16553.27087359, 17884.35671064, 30079.51914009,\n",
       "       16851.72658167, 15673.37374643, 13981.95777806, 17407.52393629,\n",
       "       11390.46406369])"
      ]
     },
     "execution_count": 9,
     "metadata": {},
     "output_type": "execute_result"
    }
   ],
   "source": [
    "# Uisng the ElasticNet model, import the necessary library\n",
    "from sklearn.linear_model import ElasticNet\n",
    "\n",
    "# training the model\n",
    "en = ElasticNet()\n",
    "en.fit(train_x, train_y)\n",
    "\n",
    "# making a prediction\n",
    "m6 = en.predict(val_x)\n",
    "m6"
   ]
  },
  {
   "cell_type": "markdown",
   "id": "82a6c506",
   "metadata": {},
   "source": [
    "### MODEL EVALUATION"
   ]
  },
  {
   "cell_type": "code",
   "execution_count": 10,
   "id": "8979a0e9",
   "metadata": {},
   "outputs": [],
   "source": [
    "from sklearn.metrics import r2_score\n",
    "from sklearn.metrics import mean_absolute_error"
   ]
  },
  {
   "cell_type": "code",
   "execution_count": 11,
   "id": "bbdfe4a0",
   "metadata": {},
   "outputs": [
    {
     "name": "stdout",
     "output_type": "stream",
     "text": [
      "Mean absolute error of Linear Regression = 3080.675\n",
      "\n",
      "Mean absolute error of Random Forest = 2091.521\n",
      "\n",
      "Mean absolute error of Decision Tree = 1661.762\n",
      "\n",
      "Mean absolute error of Lasso = 3082.47\n",
      "\n",
      "Mean absolute error of Ridge = 3073.337\n",
      "\n",
      "Mean absolute error of Elastic Net = 2934.218\n",
      "\n",
      "\n",
      "The Decision Tree Regressor model has the highest accuracy with value 89.7%\n"
     ]
    }
   ],
   "source": [
    "# mean_absolute_error\n",
    "lm_mae = mean_absolute_error(val_y, m1)\n",
    "rf_mae = mean_absolute_error(val_y, m2)\n",
    "df_mae = mean_absolute_error(val_y, m3)\n",
    "ls_mae = mean_absolute_error(val_y, m4)\n",
    "rd_mae = mean_absolute_error(val_y, m5)\n",
    "en_mae = mean_absolute_error(val_y, m6)\n",
    "\n",
    "# r2_score\n",
    "lm_score = r2_score(val_y, m1)\n",
    "rf_score = r2_score(val_y, m2)\n",
    "dt_score = r2_score(val_y, m3)\n",
    "ls_score = r2_score(val_y, m4)\n",
    "rd_score = r2_score(val_y, m5)\n",
    "en_score = r2_score(val_y, m6)\n",
    "\n",
    "lst = [m1, m2, m3, m4, m5, m6]\n",
    "lst2 = [\"Linear Regression\", \"Random Forest\", \"Decision Tree\", \"Lasso\", \"Ridge\", \"Elastic Net\"]\n",
    "\n",
    "for i in range(len(lst)):\n",
    "    print(f\"Mean absolute error of {lst2[i]} = {round(mean_absolute_error(val_y, lst[i]), 3)}\\n\")\n",
    "\n",
    "    \n",
    "# Checking for the accuracy of our models to know which is best used on our testing data.\n",
    "accuracy = {\n",
    "    \"Multiple Linear Regression\": lm_score,\n",
    "    \"Random Forest Regressor\": rf_score,\n",
    "    \"Decision Tree Regressor\": dt_score,\n",
    "    \"Lasso\": ls_score,\n",
    "    \"Ridge\": rd_score,\n",
    "    \"ElasticNet\": en_score\n",
    "}\n",
    "\n",
    "print(f\"\\nThe {max(accuracy, key=accuracy.get)} model has the highest accuracy with value {round(max(accuracy.values()), 3) * 100}%\")"
   ]
  },
  {
   "cell_type": "code",
   "execution_count": 12,
   "id": "445fc841",
   "metadata": {},
   "outputs": [
    {
     "name": "stdout",
     "output_type": "stream",
     "text": [
      "Based on the above it is safe to say the Decision Tree Regressor model performed the best so we can use it for our test data.\n"
     ]
    }
   ],
   "source": [
    "print(f\"Based on the above it is safe to say the {max(accuracy, key=accuracy.get)} model performed the best \"\n",
    "      \"so we can use it for our test data.\")"
   ]
  },
  {
   "cell_type": "markdown",
   "id": "3219fb6f",
   "metadata": {},
   "source": [
    "<h2>The purpose of this notebook was to try out multiple regression models and pick the one that performs the best</h2>"
   ]
  }
 ],
 "metadata": {
  "kernelspec": {
   "display_name": "Python 3 (ipykernel)",
   "language": "python",
   "name": "python3"
  },
  "language_info": {
   "codemirror_mode": {
    "name": "ipython",
    "version": 3
   },
   "file_extension": ".py",
   "mimetype": "text/x-python",
   "name": "python",
   "nbconvert_exporter": "python",
   "pygments_lexer": "ipython3",
   "version": "3.9.12"
  }
 },
 "nbformat": 4,
 "nbformat_minor": 5
}
