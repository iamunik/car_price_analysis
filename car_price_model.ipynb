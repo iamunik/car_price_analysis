{
 "cells": [
  {
   "cell_type": "markdown",
   "id": "0cfe33b4",
   "metadata": {},
   "source": [
    "# MODEL CREATION"
   ]
  },
  {
   "cell_type": "code",
   "execution_count": 1,
   "id": "bd69ddf1",
   "metadata": {},
   "outputs": [],
   "source": [
    "import pandas as pd\n",
    "from sklearn.model_selection import train_test_split\n",
    "from sklearn import preprocessing"
   ]
  },
  {
   "cell_type": "markdown",
   "id": "1d41101e",
   "metadata": {},
   "source": [
    "#### Reading the features csv file "
   ]
  },
  {
   "cell_type": "code",
   "execution_count": 2,
   "id": "9f694e34",
   "metadata": {},
   "outputs": [
    {
     "data": {
      "text/html": [
       "<div>\n",
       "<style scoped>\n",
       "    .dataframe tbody tr th:only-of-type {\n",
       "        vertical-align: middle;\n",
       "    }\n",
       "\n",
       "    .dataframe tbody tr th {\n",
       "        vertical-align: top;\n",
       "    }\n",
       "\n",
       "    .dataframe thead th {\n",
       "        text-align: right;\n",
       "    }\n",
       "</style>\n",
       "<table border=\"1\" class=\"dataframe\">\n",
       "  <thead>\n",
       "    <tr style=\"text-align: right;\">\n",
       "      <th></th>\n",
       "      <th>length</th>\n",
       "      <th>width</th>\n",
       "      <th>curb-weight</th>\n",
       "      <th>engine-size</th>\n",
       "      <th>horsepower</th>\n",
       "      <th>city-mpg</th>\n",
       "      <th>highway-mpg</th>\n",
       "      <th>wheel-base</th>\n",
       "      <th>bore</th>\n",
       "      <th>drive-wheels</th>\n",
       "      <th>price</th>\n",
       "    </tr>\n",
       "  </thead>\n",
       "  <tbody>\n",
       "    <tr>\n",
       "      <th>0</th>\n",
       "      <td>0.811148</td>\n",
       "      <td>0.890278</td>\n",
       "      <td>2548</td>\n",
       "      <td>130</td>\n",
       "      <td>111</td>\n",
       "      <td>21</td>\n",
       "      <td>27</td>\n",
       "      <td>88.6</td>\n",
       "      <td>3.47</td>\n",
       "      <td>rwd</td>\n",
       "      <td>13495.0</td>\n",
       "    </tr>\n",
       "    <tr>\n",
       "      <th>1</th>\n",
       "      <td>0.811148</td>\n",
       "      <td>0.890278</td>\n",
       "      <td>2548</td>\n",
       "      <td>130</td>\n",
       "      <td>111</td>\n",
       "      <td>21</td>\n",
       "      <td>27</td>\n",
       "      <td>88.6</td>\n",
       "      <td>3.47</td>\n",
       "      <td>rwd</td>\n",
       "      <td>16500.0</td>\n",
       "    </tr>\n",
       "    <tr>\n",
       "      <th>2</th>\n",
       "      <td>0.822681</td>\n",
       "      <td>0.909722</td>\n",
       "      <td>2823</td>\n",
       "      <td>152</td>\n",
       "      <td>154</td>\n",
       "      <td>19</td>\n",
       "      <td>26</td>\n",
       "      <td>94.5</td>\n",
       "      <td>2.68</td>\n",
       "      <td>rwd</td>\n",
       "      <td>16500.0</td>\n",
       "    </tr>\n",
       "    <tr>\n",
       "      <th>3</th>\n",
       "      <td>0.848630</td>\n",
       "      <td>0.919444</td>\n",
       "      <td>2337</td>\n",
       "      <td>109</td>\n",
       "      <td>102</td>\n",
       "      <td>24</td>\n",
       "      <td>30</td>\n",
       "      <td>99.8</td>\n",
       "      <td>3.19</td>\n",
       "      <td>fwd</td>\n",
       "      <td>13950.0</td>\n",
       "    </tr>\n",
       "    <tr>\n",
       "      <th>4</th>\n",
       "      <td>0.848630</td>\n",
       "      <td>0.922222</td>\n",
       "      <td>2824</td>\n",
       "      <td>136</td>\n",
       "      <td>115</td>\n",
       "      <td>18</td>\n",
       "      <td>22</td>\n",
       "      <td>99.4</td>\n",
       "      <td>3.19</td>\n",
       "      <td>4wd</td>\n",
       "      <td>17450.0</td>\n",
       "    </tr>\n",
       "  </tbody>\n",
       "</table>\n",
       "</div>"
      ],
      "text/plain": [
       "     length     width  curb-weight  engine-size  horsepower  city-mpg  \\\n",
       "0  0.811148  0.890278         2548          130         111        21   \n",
       "1  0.811148  0.890278         2548          130         111        21   \n",
       "2  0.822681  0.909722         2823          152         154        19   \n",
       "3  0.848630  0.919444         2337          109         102        24   \n",
       "4  0.848630  0.922222         2824          136         115        18   \n",
       "\n",
       "   highway-mpg  wheel-base  bore drive-wheels    price  \n",
       "0           27        88.6  3.47          rwd  13495.0  \n",
       "1           27        88.6  3.47          rwd  16500.0  \n",
       "2           26        94.5  2.68          rwd  16500.0  \n",
       "3           30        99.8  3.19          fwd  13950.0  \n",
       "4           22        99.4  3.19          4wd  17450.0  "
      ]
     },
     "execution_count": 2,
     "metadata": {},
     "output_type": "execute_result"
    }
   ],
   "source": [
    "data = pd.read_csv('dataset_used/features_car.csv')\n",
    "data.head()"
   ]
  },
  {
   "cell_type": "code",
   "execution_count": 3,
   "id": "47cd5ca6",
   "metadata": {},
   "outputs": [],
   "source": [
    "# BASED ON THE ANALYSIS PART OF THIS NOTEBOOK SERIES WE PICKED THE FEATURES WITH THE HIGHEST CORRELATION\n",
    "x = data[['horsepower', 'curb-weight', 'engine-size', 'highway-mpg', 'drive-wheels', 'length', 'width', 'city-mpg']].values\n",
    "\n",
    "# Label Encoder for one-hot-encoding\n",
    "le_sex = preprocessing.LabelEncoder()\n",
    "le_sex.fit(['rwd','fwd', '4wd'])\n",
    "x[:,4] = le_sex.transform(x[:,4]) \n",
    "\n",
    "# StandardScaler Preprocessor for scaling the dataset\n",
    "x = preprocessing.StandardScaler().fit(x).transform(x.astype(float))\n",
    "y = data.price\n",
    "\n",
    "# splitting the dataset into training and testing values.\n",
    "train_x, val_x, train_y, val_y = train_test_split(x, y, test_size=0.1, random_state=4)"
   ]
  },
  {
   "cell_type": "markdown",
   "id": "553095ab",
   "metadata": {},
   "source": [
    "Linear Regression\n",
    "Random Forest Regressor\n",
    "Decision Tree Regressor\n",
    "Lasso\n",
    "Ridge\n",
    "ElasticNet"
   ]
  },
  {
   "cell_type": "code",
   "execution_count": 4,
   "id": "692a47c3",
   "metadata": {},
   "outputs": [
    {
     "data": {
      "text/plain": [
       "array([17347.06371158, 21456.43207742, 13035.11659145, 22378.75829396,\n",
       "       13536.95583022, 18902.29390513,  6173.96806124, 20760.91703639,\n",
       "        6044.77462379, 14617.50571307, 11524.98810672, 18609.09842177,\n",
       "       17354.37668332, 24343.86558323, 10453.49516396,  9487.05588871,\n",
       "        6694.14926574, 11932.79338995,  9106.95540263, 11500.36136622,\n",
       "       18419.2963781 ])"
      ]
     },
     "execution_count": 4,
     "metadata": {},
     "output_type": "execute_result"
    }
   ],
   "source": [
    "# Using a MultipleLinearRegressor import the necessary library\n",
    "from sklearn.linear_model import LinearRegression\n",
    "\n",
    "# training the model\n",
    "lm = LinearRegression()\n",
    "lm.fit(train_x, train_y)\n",
    "\n",
    "# making a prediction\n",
    "m1 = lm.predict(val_x)\n",
    "m1"
   ]
  },
  {
   "cell_type": "code",
   "execution_count": 5,
   "id": "8537bb89",
   "metadata": {},
   "outputs": [
    {
     "data": {
      "text/plain": [
       "array([18473.5525    , 15031.765     , 13210.265     , 17272.33      ,\n",
       "       13444.38      , 15994.86      ,  7789.96      , 16631.67      ,\n",
       "        6574.34      , 14635.38      ,  9779.05666667, 18807.88      ,\n",
       "       15692.04      , 34352.58      ,  9779.65      , 11658.74      ,\n",
       "        6557.89      , 10663.68      ,  7827.34      ,  9647.18      ,\n",
       "       14359.56      ])"
      ]
     },
     "execution_count": 5,
     "metadata": {},
     "output_type": "execute_result"
    }
   ],
   "source": [
    "# Using a RandomForestRegressor import the necessary library\n",
    "from sklearn.ensemble import RandomForestRegressor\n",
    "\n",
    "# trainig the model\n",
    "rf = RandomForestRegressor()\n",
    "rf.fit(train_x, train_y)\n",
    "\n",
    "# making a prepdiction\n",
    "m2 = rf.predict(val_x)\n",
    "m2"
   ]
  },
  {
   "cell_type": "code",
   "execution_count": 6,
   "id": "eba3c8c7",
   "metadata": {},
   "outputs": [
    {
     "data": {
      "text/plain": [
       "array([21105., 13499., 15250., 16558., 13495., 13860.,  7999., 15690.,\n",
       "        6849., 11199., 10898., 19045., 16515., 34028.,  8845., 12290.,\n",
       "        6229., 10898.,  7975.,  9279., 14869.])"
      ]
     },
     "execution_count": 6,
     "metadata": {},
     "output_type": "execute_result"
    }
   ],
   "source": [
    "# Using a DecisionTreeRegressor import the neccesary library\n",
    "from sklearn.tree import DecisionTreeRegressor\n",
    "\n",
    "# training the model\n",
    "dt = DecisionTreeRegressor()\n",
    "dt.fit(train_x, train_y)\n",
    "\n",
    "# making a prediction\n",
    "m3 = dt.predict(val_x)\n",
    "m3"
   ]
  },
  {
   "cell_type": "code",
   "execution_count": 7,
   "id": "772bba3f",
   "metadata": {},
   "outputs": [
    {
     "data": {
      "text/plain": [
       "array([17340.38045554, 21452.95700573, 13034.82925257, 22382.10311851,\n",
       "       13533.64402738, 18933.64315437,  6184.63690412, 20767.92893636,\n",
       "        6052.90625291, 14622.08385281, 11525.37065353, 18599.43759142,\n",
       "       17358.44847472, 24331.07444613, 10456.05688287,  9490.07434797,\n",
       "        6697.10847215, 11939.45387076,  9118.41051787, 11495.59636891,\n",
       "       18413.88304148])"
      ]
     },
     "execution_count": 7,
     "metadata": {},
     "output_type": "execute_result"
    }
   ],
   "source": [
    "# Using a Lasso model, import the necessary library\n",
    "from sklearn.linear_model import Lasso\n",
    "\n",
    "# training the model\n",
    "ls = Lasso()\n",
    "ls.fit(train_x, train_y)\n",
    "\n",
    "# making a predictin\n",
    "m4 = ls.predict(val_x)\n",
    "m4"
   ]
  },
  {
   "cell_type": "code",
   "execution_count": 8,
   "id": "810ab90f",
   "metadata": {},
   "outputs": [
    {
     "data": {
      "text/plain": [
       "array([17332.41128442, 21439.3725746 , 13067.41606212, 22372.65199725,\n",
       "       13540.28426747, 18962.73616752,  6204.08660795, 20782.74723311,\n",
       "        6061.53143701, 14631.78869127, 11530.49591368, 18612.56886732,\n",
       "       17378.78550963, 24288.76192781, 10465.46030486,  9505.79703719,\n",
       "        6676.10724011, 11940.31638391,  9128.96968413, 11509.17983086,\n",
       "       18393.75407978])"
      ]
     },
     "execution_count": 8,
     "metadata": {},
     "output_type": "execute_result"
    }
   ],
   "source": [
    "# Using a Lasso model, import the necessary library\n",
    "from sklearn.linear_model import Ridge\n",
    "\n",
    "# training the model\n",
    "rd = Ridge()\n",
    "rd.fit(train_x, train_y)\n",
    "\n",
    "# making a prediction\n",
    "m5 = rd.predict(val_x)\n",
    "m5"
   ]
  },
  {
   "cell_type": "code",
   "execution_count": 9,
   "id": "a4848701",
   "metadata": {},
   "outputs": [
    {
     "data": {
      "text/plain": [
       "array([16823.8676252 , 20524.20531668, 14207.44048375, 21381.46416289,\n",
       "       13881.86076471, 19651.0477913 ,  7071.46844552, 20587.60585469,\n",
       "        6645.59972324, 15224.92198705, 11924.36604657, 19073.50560546,\n",
       "       17761.59882281, 21719.0125515 , 10883.72208515, 10051.48663888,\n",
       "        6496.55153853, 12056.93255818,  9718.2242554 , 12011.19164901,\n",
       "       17487.53671527])"
      ]
     },
     "execution_count": 9,
     "metadata": {},
     "output_type": "execute_result"
    }
   ],
   "source": [
    "# Uisng the ElasticNet model, import the necessary library\n",
    "from sklearn.linear_model import ElasticNet\n",
    "\n",
    "# training the model\n",
    "en = ElasticNet()\n",
    "en.fit(train_x, train_y)\n",
    "\n",
    "# making a prediction\n",
    "m6 = en.predict(val_x)\n",
    "m6"
   ]
  },
  {
   "cell_type": "markdown",
   "id": "82a6c506",
   "metadata": {},
   "source": [
    "### MODEL EVALUATION"
   ]
  },
  {
   "cell_type": "code",
   "execution_count": 10,
   "id": "8979a0e9",
   "metadata": {},
   "outputs": [],
   "source": [
    "from sklearn.metrics import r2_score\n",
    "# from sklearn.metrics import mean_absolute_error as mae\n",
    "from sklearn.metrics import mean_squared_error as mse"
   ]
  },
  {
   "cell_type": "code",
   "execution_count": 11,
   "id": "bbdfe4a0",
   "metadata": {},
   "outputs": [
    {
     "name": "stdout",
     "output_type": "stream",
     "text": [
      "Mean absolute error of Linear Regression = 13800377.219\n",
      "Mean absolute error of Random Forest = 2589602.064\n",
      "Mean absolute error of Decision Tree = 3204153.571\n",
      "Mean absolute error of Lasso = 13824678.119\n",
      "Mean absolute error of Ridge = 13852885.963\n",
      "Mean absolute error of Elastic Net = 15182740.243\n",
      "\n",
      "The Random Forest Regressor model has the highest accuracy with value 92.7%\n"
     ]
    }
   ],
   "source": [
    "# mean_absolute_error\n",
    "lst = [m1, m2, m3, m4, m5, m6]\n",
    "lst2 = [\"Linear Regression\", \"Random Forest\", \"Decision Tree\", \"Lasso\", \"Ridge\", \"Elastic Net\"]\n",
    "\n",
    "for i in range(len(lst)):\n",
    "    print(f\"Mean absolute error of {lst2[i]} = {round(mse(val_y, lst[i]), 3)}\")\n",
    "\n",
    "# r2_score\n",
    "lm_score = r2_score(val_y, m1)\n",
    "rf_score = r2_score(val_y, m2)\n",
    "dt_score = r2_score(val_y, m3)\n",
    "ls_score = r2_score(val_y, m4)\n",
    "rd_score = r2_score(val_y, m5)\n",
    "en_score = r2_score(val_y, m6)\n",
    "\n",
    "# Checking for the accuracy of our models to know which is best used on our testing data.\n",
    "accuracy = {\n",
    "    \"Multiple Linear Regression\": lm_score,\n",
    "    \"Random Forest Regressor\": rf_score,\n",
    "    \"Decision Tree Regressor\": dt_score,\n",
    "    \"Lasso\": ls_score,\n",
    "    \"Ridge\": rd_score,\n",
    "    \"ElasticNet\": en_score\n",
    "}\n",
    "# accuracy\n",
    "print(f\"\\nThe {max(accuracy, key=accuracy.get)} model has the highest accuracy with value {round(max(accuracy.values()), 3) * 100}%\")"
   ]
  },
  {
   "cell_type": "code",
   "execution_count": 12,
   "id": "445fc841",
   "metadata": {},
   "outputs": [
    {
     "name": "stdout",
     "output_type": "stream",
     "text": [
      "Based on the above it is safe to say the Random Forest Regressor model performed the best so we can use it for our test data.\n"
     ]
    }
   ],
   "source": [
    "print(f\"Based on the above it is safe to say the {max(accuracy, key=accuracy.get)} model performed the best \"\n",
    "      \"so we can use it for our test data.\")"
   ]
  },
  {
   "cell_type": "markdown",
   "id": "3219fb6f",
   "metadata": {},
   "source": [
    "<h2>The purpose of this notebook was to try out multiple regression models and pick the one that performs the best</h2>"
   ]
  }
 ],
 "metadata": {
  "kernelspec": {
   "display_name": "Python 3 (ipykernel)",
   "language": "python",
   "name": "python3"
  },
  "language_info": {
   "codemirror_mode": {
    "name": "ipython",
    "version": 3
   },
   "file_extension": ".py",
   "mimetype": "text/x-python",
   "name": "python",
   "nbconvert_exporter": "python",
   "pygments_lexer": "ipython3",
   "version": "3.9.12"
  }
 },
 "nbformat": 4,
 "nbformat_minor": 5
}
